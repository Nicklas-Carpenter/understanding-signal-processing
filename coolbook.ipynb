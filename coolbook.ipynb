{
 "cells": [
  {
   "cell_type": "code",
   "execution_count": 1,
   "id": "2a0c2d2b",
   "metadata": {},
   "outputs": [],
   "source": [
    "from ipywidgets import interact, IntSlider, FloatSlider, fixed, interact_manual"
   ]
  },
  {
   "cell_type": "code",
   "execution_count": null,
   "id": "67337d33",
   "metadata": {},
   "outputs": [],
   "source": [
    "from IPython.display import display"
   ]
  },
  {
   "cell_type": "code",
   "execution_count": 2,
   "id": "899e4625",
   "metadata": {},
   "outputs": [],
   "source": [
    "from signals import square_wave_system"
   ]
  },
  {
   "cell_type": "code",
   "execution_count": 3,
   "id": "1f778a8b",
   "metadata": {},
   "outputs": [
    {
     "data": {
      "application/vnd.jupyter.widget-view+json": {
       "model_id": "53f84b585e1640789aa560dad32cd424",
       "version_major": 2,
       "version_minor": 0
      },
      "text/plain": [
       "interactive(children=(IntSlider(value=32, description='TT', max=64, min=1), IntSlider(value=491, description='…"
      ]
     },
     "metadata": {},
     "output_type": "display_data"
    }
   ],
   "source": [
    "@interact_manual(TT=(1,64,1), RR=(1,1000,10), CC=(0.001,1,0.001), dd=0.5, n=(1,128,1))\n",
    "def demo_square_wave_system(TT, RR, CC, dd, n):\n",
    "    square_wave_system(TT, RR, CC, dd, n)"
   ]
  },
  {
   "cell_type": "code",
   "execution_count": null,
   "id": "efb5d287",
   "metadata": {},
   "outputs": [],
   "source": []
  }
 ],
 "metadata": {
  "kernelspec": {
   "display_name": "Python 3 (ipykernel)",
   "language": "python",
   "name": "python3"
  },
  "language_info": {
   "codemirror_mode": {
    "name": "ipython",
    "version": 3
   },
   "file_extension": ".py",
   "mimetype": "text/x-python",
   "name": "python",
   "nbconvert_exporter": "python",
   "pygments_lexer": "ipython3",
   "version": "3.10.4"
  }
 },
 "nbformat": 4,
 "nbformat_minor": 5
}
